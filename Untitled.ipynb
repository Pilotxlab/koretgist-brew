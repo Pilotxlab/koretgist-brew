{
 "cells": [
  {
   "cell_type": "code",
   "execution_count": 1,
   "metadata": {},
   "outputs": [],
   "source": [
    "from chatterbot import ChatBot"
   ]
  },
  {
   "cell_type": "code",
   "execution_count": null,
   "metadata": {},
   "outputs": [],
   "source": [
    "categories = ['Sports', 'Business', 'Life', 'Politics']"
   ]
  },
  {
   "cell_type": "code",
   "execution_count": 25,
   "metadata": {},
   "outputs": [
    {
     "name": "stderr",
     "output_type": "stream",
     "text": [
      "[nltk_data] Downloading package averaged_perceptron_tagger to\n",
      "[nltk_data]     C:\\Users\\TOSHIBA\\AppData\\Roaming\\nltk_data...\n",
      "[nltk_data]   Package averaged_perceptron_tagger is already up-to-\n",
      "[nltk_data]       date!\n",
      "[nltk_data] Downloading package punkt to\n",
      "[nltk_data]     C:\\Users\\TOSHIBA\\AppData\\Roaming\\nltk_data...\n",
      "[nltk_data]   Package punkt is already up-to-date!\n",
      "[nltk_data] Downloading package stopwords to\n",
      "[nltk_data]     C:\\Users\\TOSHIBA\\AppData\\Roaming\\nltk_data...\n",
      "[nltk_data]   Package stopwords is already up-to-date!\n"
     ]
    }
   ],
   "source": [
    "bot = ChatBot(\n",
    "    'Norman',\n",
    "    storage_adapter='chatterbot.storage.SQLStorageAdapter',\n",
    "    preprocessors=[\n",
    "        'chatterbot.preprocessors.clean_whitespace'\n",
    "    ]\n",
    "    logic_adapters=[\n",
    "        {\n",
    "        'import_path':'chatterbot.logic.BestMatch',\n",
    "        \"statement_comparison_function\": chatterbot.comparisons.LevenshteinDistance,\n",
    "        \"response_selection_method\": chatterbot.response_selection.get_first_response,\n",
    "        'default_response': 'I am sorry, but I do not understand.',\n",
    "        'maximum_similarity_threshold': 0.90,\n",
    "        'import_path':'chatterbot.logic.MathematicalEvaluation',\n",
    "        'import_path':'chatterbot.logic.TimeLogicAdapter'\n",
    "        },\n",
    "        {\n",
    "            'import_path': 'chatterbot.logic.SpecificResponseAdapter',\n",
    "            'input_text': 'gist me News!',\n",
    "            'output_text': 'Okay, Choose a news category from the list.'\n",
    "        }\n",
    "    ],\n",
    "    database_uri='sqlite:///database.sqlite3'\n",
    ")"
   ]
  },
  {
   "cell_type": "markdown",
   "metadata": {},
   "source": [
    "### Geting response from chatbot"
   ]
  },
  {
   "cell_type": "code",
   "execution_count": 26,
   "metadata": {},
   "outputs": [],
   "source": [
    "# while True:\n",
    "#     try:\n",
    "#         bot_input = bot.get_response(input())\n",
    "#         print(bot_input)\n",
    "\n",
    "#     except(KeyboardInterrupt, EOFError, SystemExit):\n",
    "#         break"
   ]
  },
  {
   "cell_type": "code",
   "execution_count": null,
   "metadata": {},
   "outputs": [
    {
     "name": "stdout",
     "output_type": "stream",
     "text": [
      "Downloading http://cs.mcgill.ca/~jpineau/datasets/ubuntu-corpus-1.0/ubuntu_dialogs.tgz\n",
      "[==================================================]\n",
      "Download location: C:\\Users\\TOSHIBA\\ubuntu_data\\ubuntu_dialogs.tgz\n",
      "Extracting C:\\Users\\TOSHIBA\\ubuntu_data\\ubuntu_dialogs.tgz\n",
      "."
     ]
    }
   ],
   "source": [
    "from chatterbot.trainers import ListTrainer\n",
    "from chatterbot.trainers import ChatterBotCorpusTrainer\n",
    "from chatterbot.trainers import UbuntuCorpusTrainer\n",
    "\n",
    "# trainer = ListTrainer(bot)\n",
    "\n",
    "# trainer = ChatterBotCorpusTrainer(chatbot) #Training corpus data\n",
    "\n",
    "# trainer.train(\n",
    "#     \"chatterbot.corpus.english\"\n",
    "# )\n",
    "\n",
    "trainer = UbuntuCorpusTrainer(bot)\n",
    "\n",
    "trainer.train(\n",
    "    \n",
    ")"
   ]
  },
  {
   "cell_type": "code",
   "execution_count": null,
   "metadata": {},
   "outputs": [],
   "source": [
    "# Get a response to the input text 'I would like to book a flight.'\n",
    "response = bot.get_response('Fine')\n",
    "\n",
    "print(response)"
   ]
  },
  {
   "cell_type": "code",
   "execution_count": null,
   "metadata": {},
   "outputs": [],
   "source": []
  }
 ],
 "metadata": {
  "kernelspec": {
   "display_name": "Python 3",
   "language": "python",
   "name": "python3"
  },
  "language_info": {
   "codemirror_mode": {
    "name": "ipython",
    "version": 3
   },
   "file_extension": ".py",
   "mimetype": "text/x-python",
   "name": "python",
   "nbconvert_exporter": "python",
   "pygments_lexer": "ipython3",
   "version": "3.8.3"
  }
 },
 "nbformat": 4,
 "nbformat_minor": 4
}
